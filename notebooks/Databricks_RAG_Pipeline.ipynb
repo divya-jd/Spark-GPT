{
 "cells": [
  {
   "cell_type": "code",
   "execution_count": null,
   "id": "789a2087",
   "metadata": {},
   "outputs": [],
   "source": [
    "from pyspark.sql import SparkSession\n",
    "from sentence_transformers import SentenceTransformer\n",
    "from langchain import OpenAI, LLMChain, PromptTemplate\n",
    "import faiss, numpy as np, os\n",
    "\n",
    "spark = SparkSession.builder.appName(\"SparkGPT-RAG\").getOrCreate()"
   ]
  },
  {
   "cell_type": "code",
   "execution_count": null,
   "id": "2188a060",
   "metadata": {},
   "outputs": [],
   "source": [
    "# Load & preprocess documents\n",
    "docs = spark.read.text(\"data/sample_docs/*.txt\")\n",
    "docs.show(5)"
   ]
  },
  {
   "cell_type": "code",
   "execution_count": null,
   "id": "e055586a",
   "metadata": {},
   "outputs": [],
   "source": [
    "embedder = SentenceTransformer(\"all-MiniLM-L6-v2\")\n",
    "texts = [r.value for r in docs.limit(50).collect()]\n",
    "vectors = embedder.encode(texts)"
   ]
  },
  {
   "cell_type": "code",
   "execution_count": null,
   "id": "4cb40f4e",
   "metadata": {},
   "outputs": [],
   "source": [
    "# Build vector index\n",
    "index = faiss.IndexFlatL2(vectors.shape[1])\n",
    "index.add(np.array(vectors).astype(\"float32\"))"
   ]
  },
  {
   "cell_type": "code",
   "execution_count": null,
   "id": "3d9ecb6e",
   "metadata": {},
   "outputs": [],
   "source": [
    "# Define LLM retrieval chain\n",
    "llm = OpenAI(temperature=0.2, model=\"gpt-4\", openai_api_key=os.getenv(\"OPENAI_API_KEY\"))\n",
    "prompt = PromptTemplate(template=\"Context: {context}\\nQuestion: {query}\\nAnswer concisely.\", input_variables=[\"context\", \"query\"])\n",
    "chain = LLMChain(llm=llm, prompt=prompt)"
   ]
  },
  {
   "cell_type": "code",
   "execution_count": null,
   "id": "ee0d1080",
   "metadata": {},
   "outputs": [],
   "source": [
    "# Query\n",
    "query = \"What are Databricks' advantages for LLMOps?\"\n",
    "query_vec = embedder.encode(query)\n",
    "D, I = index.search(np.array([query_vec]).astype(\"float32\"), 3)\n",
    "context = \"\\n\".join([texts[i] for i in I[0]])\n",
    "result = chain.run(context=context, query=query)\n",
    "print(result)"
   ]
  },
  {
   "cell_type": "code",
   "execution_count": null,
   "id": "5175bb7a",
   "metadata": {},
   "outputs": [],
   "source": [
    "# Evaluate & visualize\n",
    "from sklearn.metrics import pairwise_distances\n",
    "import matplotlib.pyplot as plt"
   ]
  },
  {
   "cell_type": "code",
   "execution_count": null,
   "id": "e3d4a3cc",
   "metadata": {},
   "outputs": [],
   "source": [
    "plt.title(\"Embedding Distribution\")\n",
    "plt.imshow(pairwise_distances(vectors[:100]), cmap='viridis')\n",
    "plt.show()"
   ]
  }
 ],
 "metadata": {
  "kernelspec": {
   "display_name": "Python 3",
   "language": "python",
   "name": "python3"
  },
  "language_info": {
   "codemirror_mode": {
    "name": "ipython",
    "version": 3
   },
   "file_extension": ".py",
   "mimetype": "text/x-python",
   "name": "python",
   "nbconvert_exporter": "python",
   "pygments_lexer": "ipython3",
   "version": "3.11.10"
  }
 },
 "nbformat": 4,
 "nbformat_minor": 5
}
