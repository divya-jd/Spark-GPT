{
 "cells": [
  {
   "cell_type": "code",
   "execution_count": null,
   "id": "dd25deb5",
   "metadata": {},
   "outputs": [],
   "source": [
    "# Spark_Document_Processing.ipynb\n",
    "\n",
    "from pyspark.sql import SparkSession\n",
    "from pyspark.sql.functions import col, lower, regexp_replace\n",
    "\n",
    "spark = SparkSession.builder.appName(\"SparkGPT-Processing\").getOrCreate()\n",
    "\n",
    "raw = spark.read.text(\"data/sample_docs/*.txt\")\n",
    "\n",
    "cleaned = raw.withColumn(\"value\", lower(col(\"value\"))) \\\n",
    "             .withColumn(\"value\", regexp_replace(col(\"value\"), \"[^a-z0-9 ]\", \" \"))\n",
    "cleaned.write.mode(\"overwrite\").format(\"delta\").save(\"data/processed_docs\")\n",
    "\n",
    "display(cleaned.limit(10))\n"
   ]
  }
 ],
 "metadata": {
  "language_info": {
   "name": "python"
  }
 },
 "nbformat": 4,
 "nbformat_minor": 5
}
